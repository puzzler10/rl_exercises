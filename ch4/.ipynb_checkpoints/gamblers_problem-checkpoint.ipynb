{
 "cells": [
  {
   "cell_type": "code",
   "execution_count": 146,
   "metadata": {
    "collapsed": true
   },
   "outputs": [],
   "source": [
    "import numpy as np"
   ]
  },
  {
   "cell_type": "code",
   "execution_count": 111,
   "metadata": {
    "collapsed": true
   },
   "outputs": [],
   "source": [
    "p = 0.4 \n",
    "gamma = 0.9\n",
    "target = 100"
   ]
  },
  {
   "cell_type": "code",
   "execution_count": 108,
   "metadata": {
    "collapsed": true
   },
   "outputs": [],
   "source": [
    "class gambler:\n",
    "    def __init__(self, p, gamma, target):\n",
    "        self.p = p \n",
    "        self.gamma = gamma\n",
    "        self.v = np.zeros(target)\n",
    "        self.policy = [0 for i in range(len(v))]\n",
    "    \n",
    "    def bellman_update(s, v, policy, gamma): \n",
    "        \n",
    "    \n",
    "    def stake(self, a,p):\n",
    "        \"\"\" Bet money on the coin flip\n",
    "        a: amount staked, p:probability of heads on coin\"\"\"\n",
    "        return (a*2 if coin_flip(p) == 1 else 0)\n",
    "    \n",
    "    def update_game_condition(self, s): \n",
    "        \"\"\" What's the state of the game?\n",
    "        s: amount of money\"\"\"\n",
    "        if (s <= 0):            condition = 'bankrupt'\n",
    "        elif (s >= target):     condition = 'win'\n",
    "        else:                   condition = 'playing'    \n",
    "        return (condition)\n",
    "    \n",
    "    def bellman_update(self, pi, reward_win, s_lose, s_win): \n",
    "        return (pi * (  # Bellman update\n",
    "                (1-p)* (             gamma * v[s_lose]                ) + # lose \n",
    "                p    * (reward_win + gamma * v[min((target-1), s_win)])   # win\n",
    "        ))\n",
    "    \n",
    "    def policy_evaluation(self,s,v,policy, p, gamma):\n",
    "        possible_stakes = [i for i in range(s)]  # actions \n",
    "        tmp_sum = 0\n",
    "        for a in possible_stakes: \n",
    "            s_lose = s - a\n",
    "            s_win  = s + a\n",
    "            reward_win = 1 if s_win >= target else 0  # reward_lose is always 0 \n",
    "            pi = policy[s][a]  # chance of this action\n",
    "            tmp_sum += bellman_update(pi, reward_win, s_lose, s_win))\n",
    "    \n",
    "    def reset_game(self): \n",
    "        condition = 'playing'        \n",
    "        \n",
    "    def get_value_s(s): \n",
    "        \"\"\"Calculate the value of a state \n",
    "        Keep betting until we reach 0 or 100\"\"\"\n",
    "        \n",
    "        "
   ]
  },
  {
   "cell_type": "code",
   "execution_count": 130,
   "metadata": {},
   "outputs": [],
   "source": [
    "# equiprobable random policy to start across legal moves\n",
    "# at policy[0], everything is 0. (you're buggered at this state)\n",
    "policy = [[round(1/stake,2) if i < stake else 0 for i in range(target)] \n",
    "          for stake in range(target)]"
   ]
  },
  {
   "cell_type": "code",
   "execution_count": 182,
   "metadata": {},
   "outputs": [],
   "source": []
  },
  {
   "cell_type": "code",
   "execution_count": 183,
   "metadata": {
    "collapsed": true
   },
   "outputs": [],
   "source": [
    "s = 70 \n",
    "v = np.zeros(target)\n"
   ]
  },
  {
   "cell_type": "code",
   "execution_count": 184,
   "metadata": {},
   "outputs": [],
   "source": [
    "for i in range(100):\n",
    "    for s in range(target):\n",
    "        v[s] = bellman_update(s,v,policy, p, gamma)"
   ]
  },
  {
   "cell_type": "code",
   "execution_count": 185,
   "metadata": {},
   "outputs": [
    {
     "data": {
      "text/plain": [
       "array([ 0.   ,  0.   ,  0.   ,  0.001,  0.002,  0.003,  0.004,  0.006,\n",
       "        0.008,  0.01 ,  0.013,  0.016,  0.018,  0.023,  0.025,  0.03 ,\n",
       "        0.031,  0.038,  0.046,  0.045,  0.054,  0.062,  0.069,  0.061,\n",
       "        0.069,  0.077,  0.086,  0.097,  0.109,  0.093,  0.105,  0.119,\n",
       "        0.134,  0.15 ,  0.164,  0.174,  0.185,  0.197,  0.209,  0.222,\n",
       "        0.236,  0.166,  0.176,  0.187,  0.198,  0.209,  0.221,  0.234,\n",
       "        0.246,  0.26 ,  0.274,  0.304,  0.335,  0.365,  0.396,  0.427,\n",
       "        0.458,  0.489,  0.52 ,  0.551,  0.582,  0.614,  0.645,  0.677,\n",
       "        0.709,  0.741,  0.773,  0.4  ,  0.416,  0.431,  0.446,  0.462,\n",
       "        0.477,  0.493,  0.508,  0.524,  0.539,  0.555,  0.57 ,  0.586,\n",
       "        0.602,  0.617,  0.633,  0.649,  0.664,  0.68 ,  0.696,  0.712,\n",
       "        0.728,  0.744,  0.76 ,  0.776,  0.792,  0.808,  0.824,  0.84 ,\n",
       "        0.856,  0.872,  0.888,  0.904])"
      ]
     },
     "execution_count": 185,
     "metadata": {},
     "output_type": "execute_result"
    }
   ],
   "source": [
    "np.round(v,3)"
   ]
  },
  {
   "cell_type": "code",
   "execution_count": 181,
   "metadata": {},
   "outputs": [
    {
     "data": {
      "text/plain": [
       "array([ 0.   ,  0.   ,  0.   ,  0.001,  0.002,  0.003,  0.004,  0.006,\n",
       "        0.008,  0.01 ,  0.013,  0.016,  0.018,  0.023,  0.025,  0.03 ,\n",
       "        0.031,  0.038,  0.046,  0.045,  0.054,  0.062,  0.069,  0.061,\n",
       "        0.069,  0.077,  0.086,  0.097,  0.109,  0.093,  0.105,  0.119,\n",
       "        0.134,  0.15 ,  0.164,  0.174,  0.185,  0.197,  0.209,  0.222,\n",
       "        0.236,  0.166,  0.176,  0.187,  0.198,  0.209,  0.221,  0.234,\n",
       "        0.246,  0.26 ,  0.274,  0.304,  0.335,  0.365,  0.396,  0.427,\n",
       "        0.458,  0.489,  0.52 ,  0.551,  0.582,  0.614,  0.645,  0.677,\n",
       "        0.709,  0.741,  0.773,  0.4  ,  0.416,  0.431,  0.446,  0.462,\n",
       "        0.477,  0.493,  0.508,  0.524,  0.539,  0.555,  0.57 ,  0.586,\n",
       "        0.602,  0.617,  0.633,  0.649,  0.664,  0.68 ,  0.696,  0.712,\n",
       "        0.728,  0.744,  0.76 ,  0.776,  0.792,  0.808,  0.824,  0.84 ,\n",
       "        0.856,  0.872,  0.888,  0.904])"
      ]
     },
     "execution_count": 181,
     "metadata": {},
     "output_type": "execute_result"
    }
   ],
   "source": [
    "np.round(v,3)"
   ]
  },
  {
   "cell_type": "code",
   "execution_count": 107,
   "metadata": {},
   "outputs": [
    {
     "data": {
      "text/plain": [
       "'win'"
      ]
     },
     "execution_count": 107,
     "metadata": {},
     "output_type": "execute_result"
    }
   ],
   "source": [
    "g1.update_game_condition(200)"
   ]
  },
  {
   "cell_type": "code",
   "execution_count": 85,
   "metadata": {},
   "outputs": [
    {
     "name": "stdout",
     "output_type": "stream",
     "text": [
      "0.4\n"
     ]
    }
   ],
   "source": [
    "q = g1.test()"
   ]
  },
  {
   "cell_type": "code",
   "execution_count": 78,
   "metadata": {},
   "outputs": [
    {
     "data": {
      "text/plain": [
       "0.4"
      ]
     },
     "execution_count": 78,
     "metadata": {},
     "output_type": "execute_result"
    }
   ],
   "source": []
  },
  {
   "cell_type": "code",
   "execution_count": null,
   "metadata": {
    "collapsed": true
   },
   "outputs": [],
   "source": [
    "def calc_v_s(s, p)\n",
    "\"\"\"calculate the value function for a state\n",
    "s: starting capital, \n",
    "p: coin flip\"\"\"\n",
    "    "
   ]
  }
 ],
 "metadata": {
  "kernelspec": {
   "display_name": "Python 3",
   "language": "python",
   "name": "python3"
  },
  "language_info": {
   "codemirror_mode": {
    "name": "ipython",
    "version": 3
   },
   "file_extension": ".py",
   "mimetype": "text/x-python",
   "name": "python",
   "nbconvert_exporter": "python",
   "pygments_lexer": "ipython3",
   "version": "3.6.1"
  }
 },
 "nbformat": 4,
 "nbformat_minor": 2
}
