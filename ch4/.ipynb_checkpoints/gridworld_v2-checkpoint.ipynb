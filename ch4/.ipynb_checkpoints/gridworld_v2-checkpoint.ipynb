{
 "cells": [
  {
   "cell_type": "markdown",
   "metadata": {},
   "source": [
    "This is the gridworld from example 3.8 in the book. "
   ]
  },
  {
   "cell_type": "markdown",
   "metadata": {},
   "source": [
    "## Setup"
   ]
  },
  {
   "cell_type": "code",
   "execution_count": 1,
   "metadata": {
    "collapsed": true
   },
   "outputs": [],
   "source": [
    "import numpy as np\n",
    "import pandas as pd \n",
    "from functools import partial\n",
    "from itertools import permutations"
   ]
  },
  {
   "cell_type": "code",
   "execution_count": 3,
   "metadata": {
    "collapsed": true
   },
   "outputs": [],
   "source": [
    "## Parameters \n",
    "nrow = 5\n",
    "ncol = 5 \n",
    "k = 1  # number of moves between policy iterations\n",
    "gamma = 0.9  # discount factor"
   ]
  },
  {
   "cell_type": "code",
   "execution_count": 6,
   "metadata": {},
   "outputs": [],
   "source": [
    "# Setup gameboard \n",
    "grid = np.zeros((nrow, ncol))\n",
    "# Add teleporters - start, end, score\n",
    "tele_start_l = [(0,1), (0,3)]\n",
    "tele_end_l   = [(4,1), (2,3)]\n",
    "tele_score_l = [10   ,  5   ]"
   ]
  },
  {
   "cell_type": "code",
   "execution_count": 7,
   "metadata": {},
   "outputs": [],
   "source": [
    "# Start policy \n",
    "pi = [0.25, 0.25, 0.25, 0.25]\n",
    "# We have a different pi for each square now \n",
    "pi_list = [[pi for j in range(ncol)] for i in range(nrow)]\n",
    "# Actions - up, down, left, right\n",
    "actions = [(-1,0), (1,0), (0,-1), (0,1)]"
   ]
  },
  {
   "cell_type": "markdown",
   "metadata": {},
   "source": [
    "## Policy evaluation "
   ]
  },
  {
   "cell_type": "code",
   "execution_count": 8,
   "metadata": {
    "collapsed": true
   },
   "outputs": [],
   "source": [
    "def is_on_grid(pos): \n",
    "    if min(pos) < 0 or pos[0] >= nrow or pos[1] >= ncol:   \n",
    "        return False\n",
    "    return True"
   ]
  },
  {
   "cell_type": "code",
   "execution_count": 20,
   "metadata": {
    "code_folding": []
   },
   "outputs": [],
   "source": [
    "def eval_action(pos, action): \n",
    "    \"\"\" move, score, and deal with teleporters\n",
    "    pos, action are tuples. \n",
    "    pos is where you are now\n",
    "    action is the coordinate change\"\"\"\n",
    "    reward = 0 \n",
    "    ### teleporter case\n",
    "    for i in range(len(tele_start_l)):\n",
    "        if pos == tele_start_l[i]:     \n",
    "            new_pos = tele_end_l[i]; \n",
    "            reward += tele_score_l[i]\n",
    "    else: \n",
    "        ### no teleporter, make valid move \n",
    "        new_pos = tuple(np.add(pos,action))\n",
    "        if is_on_grid(new_pos) == False:   reward -=1 \n",
    "        if min(new_pos) < 0:      new_pos = (np.max([0, new_pos[0]]), \n",
    "                                             np.max([0, new_pos[1]]))\n",
    "        elif new_pos[0] >= nrow:  new_pos = ((nrow-1), new_pos[1])\n",
    "        elif new_pos[1] >= ncol:  new_pos = (new_pos[0], (ncol-1))\n",
    "    return (new_pos, reward)"
   ]
  },
  {
   "cell_type": "code",
   "execution_count": 21,
   "metadata": {
    "collapsed": true
   },
   "outputs": [],
   "source": [
    "def bellman_update(idx, reward_l, new_pos_l,pi):\n",
    "    return (pi[idx]*(reward_l[idx] + gamma * v[new_pos_l[idx]]))"
   ]
  },
  {
   "cell_type": "code",
   "execution_count": 22,
   "metadata": {
    "collapsed": true
   },
   "outputs": [],
   "source": [
    "def update_value_for_square(pos,v,pi):\n",
    "    tmp = [eval_action(pos, action) for action in actions]\n",
    "    new_pos_l = [o[0] for o in tmp]\n",
    "    reward_l  = [o[1] for o in tmp]\n",
    "    # update the value function\n",
    "    v[pos] = sum(map(partial(bellman_update, reward_l=reward_l, \n",
    "                              new_pos_l = new_pos_l, pi=pi), range(len(pi))))\n",
    "    return(v)"
   ]
  },
  {
   "cell_type": "code",
   "execution_count": 29,
   "metadata": {},
   "outputs": [],
   "source": [
    "pos_l = [(x,y) for x in range(nrow) for y in range(ncol)]\n",
    "v = np.zeros((nrow,ncol))\n",
    "k=1000\n",
    "for i in range(k): \n",
    "    for pos in pos_l: \n",
    "        v = update_value_for_square(pos,v,pi)"
   ]
  },
  {
   "cell_type": "code",
   "execution_count": 30,
   "metadata": {},
   "outputs": [
    {
     "data": {
      "text/plain": [
       "array([[ 10. ,  21.1,  11.3,  12.6,   5.6],\n",
       "       [  5.6,   8.1,   6.2,   5.5,   3.2],\n",
       "       [  2.3,   3.2,   2.8,   2.3,   1.2],\n",
       "       [  0.3,   0.9,   0.9,   0.5,  -0.2],\n",
       "       [ -1. ,  -0.5,  -0.4,  -0.6,  -1.2]])"
      ]
     },
     "execution_count": 30,
     "metadata": {},
     "output_type": "execute_result"
    }
   ],
   "source": [
    "v.round(1)"
   ]
  },
  {
   "cell_type": "markdown",
   "metadata": {},
   "source": [
    "## Policy iteration"
   ]
  },
  {
   "cell_type": "markdown",
   "metadata": {},
   "source": [
    "Where we define a new policy based on the value function. "
   ]
  },
  {
   "cell_type": "code",
   "execution_count": 387,
   "metadata": {},
   "outputs": [],
   "source": [
    "for pos in pos_l: \n",
    "    legal_moves = [is_on_grid(tuple(np.add(pos,action))) for action in actions]\n",
    "    values = [v[tuple(np.add(pos,act))] \n",
    "              if legal else -99999999 for act, legal in zip(actions, legal_moves)]\n",
    "    max_val = max(values)\n",
    "    n_max_values = sum([1 if o == max_val else 0 for o in values])\n",
    "    pi_tmp = [1/n_max_values if o == max_val else 0 for o in values]\n",
    "    pi_list[pos[0]][pos[1]] = pi_tmp"
   ]
  },
  {
   "cell_type": "code",
   "execution_count": null,
   "metadata": {
    "collapsed": true
   },
   "outputs": [],
   "source": []
  }
 ],
 "metadata": {
  "kernelspec": {
   "display_name": "Python 3",
   "language": "python",
   "name": "python3"
  },
  "language_info": {
   "codemirror_mode": {
    "name": "ipython",
    "version": 3
   },
   "file_extension": ".py",
   "mimetype": "text/x-python",
   "name": "python",
   "nbconvert_exporter": "python",
   "pygments_lexer": "ipython3",
   "version": "3.6.1"
  }
 },
 "nbformat": 4,
 "nbformat_minor": 2
}
