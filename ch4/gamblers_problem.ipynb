{
 "cells": [
  {
   "cell_type": "code",
   "execution_count": 182,
   "metadata": {
    "collapsed": true
   },
   "outputs": [],
   "source": [
    "import numpy as np\n",
    "import matplotlib.pyplot as plt\n",
    "from IPython.core.debugger import set_trace\n",
    "%matplotlib inline"
   ]
  },
  {
   "cell_type": "code",
   "execution_count": 365,
   "metadata": {},
   "outputs": [],
   "source": [
    "class Gambler:\n",
    "    def __init__(self, p, gamma, target):\n",
    "        self.p = p \n",
    "        self.gamma = gamma\n",
    "        self.target = target\n",
    "        \n",
    "        # v[0] is value of the terminal state 0 \n",
    "        # v[100] = 1 and is the value of the terminal state 100 \n",
    "        # all other values correspond to themselves. \n",
    "        self.v = np.zeros(target+1)\n",
    "        self.v[0] = 0 \n",
    "        self.v[target] = 1\n",
    "        \n",
    "        # equiprobable random policy to start across legal moves\n",
    "        # policy[0] is probabilty of actions for state(1) \n",
    "        # policy[5] is probability of actions for state(6)\n",
    "        # policy[5][3] is probability of betting 4 for state(6)\n",
    "        self.policy = [[round(1/stake, 3)  for i in range(target) if i < stake] \n",
    "                      for stake in range(1, target)]\n",
    "    \n",
    "    def bellman_update_second_term(self, pi, reward_win, s_lose, s_win): \n",
    "        return (pi * ( \n",
    "        (1-self.p)* (             self.gamma * self.v[s_lose]                     ) + # lose \n",
    "        self.p *    (reward_win + self.gamma * self.v[min(self.target, s_win)])   # win\n",
    "        ))\n",
    "    \n",
    "    def bellman_update(self,s):\n",
    "        possible_stakes = [i+1 for i in range(s)]  # actions \n",
    "        second_term_values = [0 for i in range(s)]\n",
    "        for a in possible_stakes: \n",
    "            s_lose = s - a\n",
    "            s_win  = s + a\n",
    "            reward_win = 1 if s_win >= self.target else 0  # reward_lose is always 0 \n",
    "            pi = self.policy[s-1][a-1]  # chance of this action\n",
    "            second_term_values[a-1] = self.bellman_update_second_term(\n",
    "                pi, reward_win, s_lose, s_win)\n",
    "        return second_term_values\n",
    "    \n",
    "    def policy_evaluation(self, k): \n",
    "        \"\"\"Calculate the value of each state k times \"\"\"\n",
    "        for i in range(k):\n",
    "            for s in range(1,target): \n",
    "                self.v[s] = sum(self.bellman_update(s))\n",
    "\n",
    "    def policy_improvement(self): \n",
    "        policy_stable = False\n",
    "        count = 0 \n",
    "        while policy_stable == False and count < 10:\n",
    "            policy_stable = True\n",
    "            # Loop through each state\n",
    "            count +=1\n",
    "            for s in range(1,target): \n",
    "                old_action = np.argmax(self.policy[s-1])                \n",
    "                action_values = self.bellman_update(s)\n",
    "                new_action = np.argmax(action_values)\n",
    "                # Update policy for the state \n",
    "                self.policy[s-1] = [1 if o == new_action else 0 for o in range(s)]\n",
    "                # Check if the policy has changed\n",
    "                if new_action != old_action: policy_stable = False\n"
   ]
  },
  {
   "cell_type": "code",
   "execution_count": 366,
   "metadata": {
    "collapsed": true
   },
   "outputs": [],
   "source": [
    "p = 0.4 \n",
    "gamma = 0.9\n",
    "target = 100"
   ]
  },
  {
   "cell_type": "code",
   "execution_count": 367,
   "metadata": {},
   "outputs": [],
   "source": [
    "g = Gambler(p, gamma, target)"
   ]
  },
  {
   "cell_type": "code",
   "execution_count": 371,
   "metadata": {
    "scrolled": true
   },
   "outputs": [],
   "source": [
    "for i in range(40):\n",
    "    g.policy_evaluation(4)\n",
    "    g.policy_improvement()"
   ]
  },
  {
   "cell_type": "code",
   "execution_count": 375,
   "metadata": {},
   "outputs": [
    {
     "data": {
      "text/plain": [
       "[<matplotlib.lines.Line2D at 0x1194ebe10>]"
      ]
     },
     "execution_count": 375,
     "metadata": {},
     "output_type": "execute_result"
    },
    {
     "data": {
      "image/png": "[encoded data removed]",
      "text/plain": [
       "<matplotlib.figure.Figure at 0x11935b390>"
      ]
     },
     "metadata": {},
     "output_type": "display_data"
    }
   ],
   "source": [
    "plt.plot([np.argmax(i)+1 for i in g.policy])"
   ]
  },
  {
   "cell_type": "markdown",
   "metadata": {},
   "source": [
    "## Test Cases "
   ]
  },
  {
   "cell_type": "code",
   "execution_count": 377,
   "metadata": {
    "collapsed": true
   },
   "outputs": [],
   "source": [
    "p = 0.4\n",
    "gamma = 1\n",
    "target = 4\n",
    "g1 = Gambler(p, gamma, target)\n",
    "g1.v = np.array([0, 0.3, 0.5, 0.7, 1])"
   ]
  },
  {
   "cell_type": "markdown",
   "metadata": {},
   "source": [
    "#### Bellman update"
   ]
  },
  {
   "cell_type": "code",
   "execution_count": 378,
   "metadata": {},
   "outputs": [],
   "source": [
    "s = 1 \n",
    "bellman_1 = g1.policy[s-1][0] * ((1-p) * gamma * g1.v[0] + p*(gamma * g1.v[2]))\n",
    "assert g1.bellman_update(1) ==  bellman_1\n",
    "s = 2\n",
    "bellman_2 = g1.policy[s-1][0] * ((1-p) * gamma * g1.v[1] + p*gamma * g1.v[3]) + \\\n",
    "    g1.policy[s-1][1] * ((1-p) * gamma * g1.v[0] + p*(1 + gamma * g1.v[4]))\n",
    "assert sum(g1.bellman_update(2)) == bellman_2"
   ]
  }
 ],
 "metadata": {
  "kernelspec": {
   "display_name": "Python 3",
   "language": "python",
   "name": "python3"
  },
  "language_info": {
   "codemirror_mode": {
    "name": "ipython",
    "version": 3
   },
   "file_extension": ".py",
   "mimetype": "text/x-python",
   "name": "python",
   "nbconvert_exporter": "python",
   "pygments_lexer": "ipython3",
   "version": "3.6.1"
  }
 },
 "nbformat": 4,
 "nbformat_minor": 2
}
